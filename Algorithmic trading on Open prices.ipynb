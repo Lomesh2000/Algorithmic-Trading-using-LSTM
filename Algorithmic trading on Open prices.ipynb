{
 "cells": [
  {
   "cell_type": "code",
   "execution_count": 5,
   "id": "beaecb65-9f11-49fb-908b-536ec2a35bbf",
   "metadata": {},
   "outputs": [
    {
     "name": "stdout",
     "output_type": "stream",
     "text": [
      "Requirement already satisfied: kaggle in c:\\users\\admin\\appdata\\local\\programs\\python\\python311\\lib\\site-packages (1.6.12)\n",
      "Requirement already satisfied: six>=1.10 in c:\\users\\admin\\appdata\\local\\programs\\python\\python311\\lib\\site-packages (from kaggle) (1.16.0)\n",
      "Requirement already satisfied: certifi>=2023.7.22 in c:\\users\\admin\\appdata\\local\\programs\\python\\python311\\lib\\site-packages (from kaggle) (2024.2.2)\n",
      "Requirement already satisfied: python-dateutil in c:\\users\\admin\\appdata\\local\\programs\\python\\python311\\lib\\site-packages (from kaggle) (2.9.0.post0)\n",
      "Requirement already satisfied: requests in c:\\users\\admin\\appdata\\local\\programs\\python\\python311\\lib\\site-packages (from kaggle) (2.31.0)\n",
      "Requirement already satisfied: tqdm in c:\\users\\admin\\appdata\\local\\programs\\python\\python311\\lib\\site-packages (from kaggle) (4.66.4)\n",
      "Requirement already satisfied: python-slugify in c:\\users\\admin\\appdata\\local\\programs\\python\\python311\\lib\\site-packages (from kaggle) (8.0.4)\n",
      "Requirement already satisfied: urllib3 in c:\\users\\admin\\appdata\\local\\programs\\python\\python311\\lib\\site-packages (from kaggle) (2.2.1)\n",
      "Requirement already satisfied: bleach in c:\\users\\admin\\appdata\\local\\programs\\python\\python311\\lib\\site-packages (from kaggle) (6.1.0)\n",
      "Requirement already satisfied: webencodings in c:\\users\\admin\\appdata\\local\\programs\\python\\python311\\lib\\site-packages (from bleach->kaggle) (0.5.1)\n",
      "Requirement already satisfied: text-unidecode>=1.3 in c:\\users\\admin\\appdata\\local\\programs\\python\\python311\\lib\\site-packages (from python-slugify->kaggle) (1.3)\n",
      "Requirement already satisfied: charset-normalizer<4,>=2 in c:\\users\\admin\\appdata\\local\\programs\\python\\python311\\lib\\site-packages (from requests->kaggle) (3.3.2)\n",
      "Requirement already satisfied: idna<4,>=2.5 in c:\\users\\admin\\appdata\\local\\programs\\python\\python311\\lib\\site-packages (from requests->kaggle) (3.7)\n",
      "Requirement already satisfied: colorama in c:\\users\\admin\\appdata\\local\\programs\\python\\python311\\lib\\site-packages (from tqdm->kaggle) (0.4.6)\n",
      "Requirement already satisfied: yfinance in c:\\users\\admin\\appdata\\local\\programs\\python\\python311\\lib\\site-packages (0.2.38)\n",
      "Requirement already satisfied: pandas>=1.3.0 in c:\\users\\admin\\appdata\\local\\programs\\python\\python311\\lib\\site-packages (from yfinance) (2.2.2)\n",
      "Requirement already satisfied: numpy>=1.16.5 in c:\\users\\admin\\appdata\\local\\programs\\python\\python311\\lib\\site-packages (from yfinance) (1.26.4)\n",
      "Requirement already satisfied: requests>=2.31 in c:\\users\\admin\\appdata\\local\\programs\\python\\python311\\lib\\site-packages (from yfinance) (2.31.0)\n",
      "Requirement already satisfied: multitasking>=0.0.7 in c:\\users\\admin\\appdata\\local\\programs\\python\\python311\\lib\\site-packages (from yfinance) (0.0.11)\n",
      "Requirement already satisfied: lxml>=4.9.1 in c:\\users\\admin\\appdata\\local\\programs\\python\\python311\\lib\\site-packages (from yfinance) (5.2.1)\n",
      "Requirement already satisfied: appdirs>=1.4.4 in c:\\users\\admin\\appdata\\local\\programs\\python\\python311\\lib\\site-packages (from yfinance) (1.4.4)\n",
      "Requirement already satisfied: pytz>=2022.5 in c:\\users\\admin\\appdata\\local\\programs\\python\\python311\\lib\\site-packages (from yfinance) (2024.1)\n",
      "Requirement already satisfied: frozendict>=2.3.4 in c:\\users\\admin\\appdata\\local\\programs\\python\\python311\\lib\\site-packages (from yfinance) (2.4.3)\n",
      "Requirement already satisfied: peewee>=3.16.2 in c:\\users\\admin\\appdata\\local\\programs\\python\\python311\\lib\\site-packages (from yfinance) (3.17.3)\n",
      "Requirement already satisfied: beautifulsoup4>=4.11.1 in c:\\users\\admin\\appdata\\local\\programs\\python\\python311\\lib\\site-packages (from yfinance) (4.12.3)\n",
      "Requirement already satisfied: html5lib>=1.1 in c:\\users\\admin\\appdata\\local\\programs\\python\\python311\\lib\\site-packages (from yfinance) (1.1)\n",
      "Requirement already satisfied: soupsieve>1.2 in c:\\users\\admin\\appdata\\local\\programs\\python\\python311\\lib\\site-packages (from beautifulsoup4>=4.11.1->yfinance) (2.5)\n",
      "Requirement already satisfied: six>=1.9 in c:\\users\\admin\\appdata\\local\\programs\\python\\python311\\lib\\site-packages (from html5lib>=1.1->yfinance) (1.16.0)\n",
      "Requirement already satisfied: webencodings in c:\\users\\admin\\appdata\\local\\programs\\python\\python311\\lib\\site-packages (from html5lib>=1.1->yfinance) (0.5.1)\n",
      "Requirement already satisfied: python-dateutil>=2.8.2 in c:\\users\\admin\\appdata\\local\\programs\\python\\python311\\lib\\site-packages (from pandas>=1.3.0->yfinance) (2.9.0.post0)\n",
      "Requirement already satisfied: tzdata>=2022.7 in c:\\users\\admin\\appdata\\local\\programs\\python\\python311\\lib\\site-packages (from pandas>=1.3.0->yfinance) (2024.1)\n",
      "Requirement already satisfied: charset-normalizer<4,>=2 in c:\\users\\admin\\appdata\\local\\programs\\python\\python311\\lib\\site-packages (from requests>=2.31->yfinance) (3.3.2)\n",
      "Requirement already satisfied: idna<4,>=2.5 in c:\\users\\admin\\appdata\\local\\programs\\python\\python311\\lib\\site-packages (from requests>=2.31->yfinance) (3.7)\n",
      "Requirement already satisfied: urllib3<3,>=1.21.1 in c:\\users\\admin\\appdata\\local\\programs\\python\\python311\\lib\\site-packages (from requests>=2.31->yfinance) (2.2.1)\n",
      "Requirement already satisfied: certifi>=2017.4.17 in c:\\users\\admin\\appdata\\local\\programs\\python\\python311\\lib\\site-packages (from requests>=2.31->yfinance) (2024.2.2)\n"
     ]
    }
   ],
   "source": [
    "!pip install kaggle\n",
    "!pip install yfinance"
   ]
  },
  {
   "cell_type": "code",
   "execution_count": 67,
   "id": "0162c4f8-4ba9-4270-b9e6-094e7a90bcef",
   "metadata": {},
   "outputs": [],
   "source": [
    "import yfinance as yf\n",
    "import pandas as pd\n",
    "import matplotlib.pyplot as plt\n",
    "import seaborn as sns\n",
    "from sklearn.preprocessing import MinMaxScaler, StandardScaler\n",
    "import warnings\n",
    "warnings.filterwarnings(\"ignore\")\n",
    "%matplotlib inline"
   ]
  },
  {
   "cell_type": "code",
   "execution_count": 11,
   "id": "2030afce-7ed3-49e9-9314-2615882a5311",
   "metadata": {},
   "outputs": [],
   "source": [
    "import tensorflow"
   ]
  },
  {
   "cell_type": "code",
   "execution_count": 12,
   "id": "5eed46ad-b182-462c-92bd-17fda758b408",
   "metadata": {},
   "outputs": [
    {
     "name": "stderr",
     "output_type": "stream",
     "text": [
      "[*********************100%%**********************]  1 of 1 completed\n"
     ]
    }
   ],
   "source": [
    "data = yf.download('WIPRO.NS')"
   ]
  },
  {
   "cell_type": "code",
   "execution_count": 13,
   "id": "57ff69ca-8207-40fa-a91a-4fa7c2559b54",
   "metadata": {},
   "outputs": [
    {
     "data": {
      "text/html": [
       "<div>\n",
       "<style scoped>\n",
       "    .dataframe tbody tr th:only-of-type {\n",
       "        vertical-align: middle;\n",
       "    }\n",
       "\n",
       "    .dataframe tbody tr th {\n",
       "        vertical-align: top;\n",
       "    }\n",
       "\n",
       "    .dataframe thead th {\n",
       "        text-align: right;\n",
       "    }\n",
       "</style>\n",
       "<table border=\"1\" class=\"dataframe\">\n",
       "  <thead>\n",
       "    <tr style=\"text-align: right;\">\n",
       "      <th></th>\n",
       "      <th>Open</th>\n",
       "      <th>High</th>\n",
       "      <th>Low</th>\n",
       "      <th>Close</th>\n",
       "      <th>Adj Close</th>\n",
       "      <th>Volume</th>\n",
       "    </tr>\n",
       "    <tr>\n",
       "      <th>Date</th>\n",
       "      <th></th>\n",
       "      <th></th>\n",
       "      <th></th>\n",
       "      <th></th>\n",
       "      <th></th>\n",
       "      <th></th>\n",
       "    </tr>\n",
       "  </thead>\n",
       "  <tbody>\n",
       "    <tr>\n",
       "      <th>1996-01-01</th>\n",
       "      <td>1.1250</td>\n",
       "      <td>1.1250</td>\n",
       "      <td>1.1250</td>\n",
       "      <td>1.1250</td>\n",
       "      <td>0.908191</td>\n",
       "      <td>19999</td>\n",
       "    </tr>\n",
       "    <tr>\n",
       "      <th>1996-01-02</th>\n",
       "      <td>1.0375</td>\n",
       "      <td>1.0375</td>\n",
       "      <td>1.0375</td>\n",
       "      <td>1.0375</td>\n",
       "      <td>0.837554</td>\n",
       "      <td>39999</td>\n",
       "    </tr>\n",
       "    <tr>\n",
       "      <th>1996-01-03</th>\n",
       "      <td>1.0750</td>\n",
       "      <td>1.0750</td>\n",
       "      <td>1.0750</td>\n",
       "      <td>1.0750</td>\n",
       "      <td>0.867827</td>\n",
       "      <td>19999</td>\n",
       "    </tr>\n",
       "    <tr>\n",
       "      <th>1996-01-04</th>\n",
       "      <td>1.0750</td>\n",
       "      <td>1.0750</td>\n",
       "      <td>1.0750</td>\n",
       "      <td>1.0750</td>\n",
       "      <td>0.867827</td>\n",
       "      <td>119999</td>\n",
       "    </tr>\n",
       "    <tr>\n",
       "      <th>1996-01-05</th>\n",
       "      <td>1.0750</td>\n",
       "      <td>1.0750</td>\n",
       "      <td>1.0750</td>\n",
       "      <td>1.0750</td>\n",
       "      <td>0.867827</td>\n",
       "      <td>0</td>\n",
       "    </tr>\n",
       "  </tbody>\n",
       "</table>\n",
       "</div>"
      ],
      "text/plain": [
       "              Open    High     Low   Close  Adj Close  Volume\n",
       "Date                                                         \n",
       "1996-01-01  1.1250  1.1250  1.1250  1.1250   0.908191   19999\n",
       "1996-01-02  1.0375  1.0375  1.0375  1.0375   0.837554   39999\n",
       "1996-01-03  1.0750  1.0750  1.0750  1.0750   0.867827   19999\n",
       "1996-01-04  1.0750  1.0750  1.0750  1.0750   0.867827  119999\n",
       "1996-01-05  1.0750  1.0750  1.0750  1.0750   0.867827       0"
      ]
     },
     "execution_count": 13,
     "metadata": {},
     "output_type": "execute_result"
    }
   ],
   "source": [
    "data.head()"
   ]
  },
  {
   "cell_type": "code",
   "execution_count": 14,
   "id": "3b1234d6-7ccc-4bb0-ab84-a77e96361e1b",
   "metadata": {},
   "outputs": [
    {
     "data": {
      "text/html": [
       "<div>\n",
       "<style scoped>\n",
       "    .dataframe tbody tr th:only-of-type {\n",
       "        vertical-align: middle;\n",
       "    }\n",
       "\n",
       "    .dataframe tbody tr th {\n",
       "        vertical-align: top;\n",
       "    }\n",
       "\n",
       "    .dataframe thead th {\n",
       "        text-align: right;\n",
       "    }\n",
       "</style>\n",
       "<table border=\"1\" class=\"dataframe\">\n",
       "  <thead>\n",
       "    <tr style=\"text-align: right;\">\n",
       "      <th></th>\n",
       "      <th>Open</th>\n",
       "      <th>High</th>\n",
       "      <th>Low</th>\n",
       "      <th>Close</th>\n",
       "      <th>Adj Close</th>\n",
       "      <th>Volume</th>\n",
       "    </tr>\n",
       "  </thead>\n",
       "  <tbody>\n",
       "    <tr>\n",
       "      <th>count</th>\n",
       "      <td>7121.000000</td>\n",
       "      <td>7121.000000</td>\n",
       "      <td>7121.000000</td>\n",
       "      <td>7121.000000</td>\n",
       "      <td>7121.000000</td>\n",
       "      <td>7.121000e+03</td>\n",
       "    </tr>\n",
       "    <tr>\n",
       "      <th>mean</th>\n",
       "      <td>163.542716</td>\n",
       "      <td>165.686821</td>\n",
       "      <td>161.126450</td>\n",
       "      <td>163.341377</td>\n",
       "      <td>153.620197</td>\n",
       "      <td>6.702780e+06</td>\n",
       "    </tr>\n",
       "    <tr>\n",
       "      <th>std</th>\n",
       "      <td>140.762823</td>\n",
       "      <td>142.036930</td>\n",
       "      <td>139.230338</td>\n",
       "      <td>140.538295</td>\n",
       "      <td>141.431096</td>\n",
       "      <td>8.246012e+06</td>\n",
       "    </tr>\n",
       "    <tr>\n",
       "      <th>min</th>\n",
       "      <td>0.767500</td>\n",
       "      <td>0.767500</td>\n",
       "      <td>0.737500</td>\n",
       "      <td>0.767500</td>\n",
       "      <td>0.622526</td>\n",
       "      <td>0.000000e+00</td>\n",
       "    </tr>\n",
       "    <tr>\n",
       "      <th>25%</th>\n",
       "      <td>59.625004</td>\n",
       "      <td>60.825005</td>\n",
       "      <td>58.179379</td>\n",
       "      <td>59.495628</td>\n",
       "      <td>48.852383</td>\n",
       "      <td>2.484430e+06</td>\n",
       "    </tr>\n",
       "    <tr>\n",
       "      <th>50%</th>\n",
       "      <td>133.837540</td>\n",
       "      <td>135.843750</td>\n",
       "      <td>131.531281</td>\n",
       "      <td>133.743790</td>\n",
       "      <td>119.010674</td>\n",
       "      <td>4.346692e+06</td>\n",
       "    </tr>\n",
       "    <tr>\n",
       "      <th>75%</th>\n",
       "      <td>212.306305</td>\n",
       "      <td>214.893799</td>\n",
       "      <td>210.000046</td>\n",
       "      <td>212.325058</td>\n",
       "      <td>203.160477</td>\n",
       "      <td>7.864266e+06</td>\n",
       "    </tr>\n",
       "    <tr>\n",
       "      <th>max</th>\n",
       "      <td>722.750000</td>\n",
       "      <td>739.849976</td>\n",
       "      <td>716.000000</td>\n",
       "      <td>721.500000</td>\n",
       "      <td>711.108215</td>\n",
       "      <td>1.303676e+08</td>\n",
       "    </tr>\n",
       "  </tbody>\n",
       "</table>\n",
       "</div>"
      ],
      "text/plain": [
       "              Open         High          Low        Close    Adj Close  \\\n",
       "count  7121.000000  7121.000000  7121.000000  7121.000000  7121.000000   \n",
       "mean    163.542716   165.686821   161.126450   163.341377   153.620197   \n",
       "std     140.762823   142.036930   139.230338   140.538295   141.431096   \n",
       "min       0.767500     0.767500     0.737500     0.767500     0.622526   \n",
       "25%      59.625004    60.825005    58.179379    59.495628    48.852383   \n",
       "50%     133.837540   135.843750   131.531281   133.743790   119.010674   \n",
       "75%     212.306305   214.893799   210.000046   212.325058   203.160477   \n",
       "max     722.750000   739.849976   716.000000   721.500000   711.108215   \n",
       "\n",
       "             Volume  \n",
       "count  7.121000e+03  \n",
       "mean   6.702780e+06  \n",
       "std    8.246012e+06  \n",
       "min    0.000000e+00  \n",
       "25%    2.484430e+06  \n",
       "50%    4.346692e+06  \n",
       "75%    7.864266e+06  \n",
       "max    1.303676e+08  "
      ]
     },
     "execution_count": 14,
     "metadata": {},
     "output_type": "execute_result"
    }
   ],
   "source": [
    "data.describe(include='all')"
   ]
  },
  {
   "cell_type": "code",
   "execution_count": 15,
   "id": "bc71884e-c369-4113-a7ac-4378070d1cb6",
   "metadata": {},
   "outputs": [],
   "source": [
    "# sns.heatmap(data['Open'].isnull().sum())"
   ]
  },
  {
   "cell_type": "code",
   "execution_count": 16,
   "id": "791d576f-b668-4edd-9794-489d5704f188",
   "metadata": {},
   "outputs": [
    {
     "data": {
      "text/plain": [
       "0"
      ]
     },
     "execution_count": 16,
     "metadata": {},
     "output_type": "execute_result"
    }
   ],
   "source": [
    "data['Open'].isnull().sum()"
   ]
  },
  {
   "cell_type": "code",
   "execution_count": 17,
   "id": "d0c8a967-dad5-469b-a788-3f31061ab620",
   "metadata": {},
   "outputs": [
    {
     "name": "stdout",
     "output_type": "stream",
     "text": [
      "Open 0\n",
      "High 0\n",
      "Low 0\n",
      "Close 0\n",
      "Adj Close 0\n",
      "Volume 0\n"
     ]
    }
   ],
   "source": [
    "for col in data.columns:\n",
    "    print(f'{col}',data[col].isnull().sum())"
   ]
  },
  {
   "cell_type": "code",
   "execution_count": 18,
   "id": "86c2ec69-a128-496b-97b2-07c6f3dc2827",
   "metadata": {},
   "outputs": [
    {
     "data": {
      "text/plain": [
       "<Axes: ylabel='Open'>"
      ]
     },
     "execution_count": 18,
     "metadata": {},
     "output_type": "execute_result"
    },
    {
     "data": {
      "image/png": "[encoded data removed]",
      "text/plain": [
       "<Figure size 640x480 with 1 Axes>"
      ]
     },
     "metadata": {},
     "output_type": "display_data"
    }
   ],
   "source": [
    "sns.boxplot(data = data, y = 'Open')"
   ]
  },
  {
   "cell_type": "code",
   "execution_count": 19,
   "id": "f3ee7c53-4114-45c3-8a27-0cefccd3285d",
   "metadata": {},
   "outputs": [],
   "source": [
    "import numpy as np\n",
    "q3 = np.percentile(data['Open'], 75)\n",
    "q1 = np.percentile(data['Open'], 25)"
   ]
  },
  {
   "cell_type": "code",
   "execution_count": 20,
   "id": "35afee67-ba47-4da7-9c1f-7679753052c1",
   "metadata": {},
   "outputs": [
    {
     "data": {
      "text/plain": [
       "152.68130111694336"
      ]
     },
     "execution_count": 20,
     "metadata": {},
     "output_type": "execute_result"
    }
   ],
   "source": [
    "iqr = q3 - q1\n",
    "iqr"
   ]
  },
  {
   "cell_type": "code",
   "execution_count": 21,
   "id": "1650bb41-4421-4154-9d6a-9cf0029b9c81",
   "metadata": {},
   "outputs": [],
   "source": [
    "maxx = q3 + 1.5*iqr\n",
    "minn = q1 - 1.5*iqr"
   ]
  },
  {
   "cell_type": "code",
   "execution_count": 22,
   "id": "6484e509-5db5-4d74-af95-8fcb7cd5c1a4",
   "metadata": {},
   "outputs": [
    {
     "data": {
      "text/plain": [
       "(441.32825660705566, -169.39694786071777)"
      ]
     },
     "execution_count": 22,
     "metadata": {},
     "output_type": "execute_result"
    }
   ],
   "source": [
    "maxx , minn"
   ]
  },
  {
   "cell_type": "code",
   "execution_count": 23,
   "id": "8a38e702-9c53-4599-b592-923dd20e3656",
   "metadata": {},
   "outputs": [
    {
     "data": {
      "text/plain": [
       "2370"
      ]
     },
     "execution_count": 23,
     "metadata": {},
     "output_type": "execute_result"
    }
   ],
   "source": [
    "data[data['Open'] > maxx].size"
   ]
  },
  {
   "cell_type": "code",
   "execution_count": 24,
   "id": "795a6d23-9e41-4bff-ac2d-38945b04b80b",
   "metadata": {},
   "outputs": [
    {
     "data": {
      "text/plain": [
       "42726"
      ]
     },
     "execution_count": 24,
     "metadata": {},
     "output_type": "execute_result"
    }
   ],
   "source": [
    "data.size"
   ]
  },
  {
   "cell_type": "code",
   "execution_count": 25,
   "id": "c8b73d7f-4e20-4df7-84c8-a9109ef6ad3e",
   "metadata": {},
   "outputs": [
    {
     "data": {
      "text/plain": [
       "[<matplotlib.lines.Line2D at 0x1631989a690>]"
      ]
     },
     "execution_count": 25,
     "metadata": {},
     "output_type": "execute_result"
    },
    {
     "data": {
      "image/png": "[encoded data removed]",
      "text/plain": [
       "<Figure size 640x480 with 1 Axes>"
      ]
     },
     "metadata": {},
     "output_type": "display_data"
    }
   ],
   "source": [
    "plt.plot(data['Open'])\n",
    "plt.plot(data['Close'])"
   ]
  },
  {
   "cell_type": "code",
   "execution_count": 26,
   "id": "c7576d93-05de-4e9a-b5c1-d1b3d126caff",
   "metadata": {},
   "outputs": [],
   "source": [
    "df = data.filter(['Open'])"
   ]
  },
  {
   "cell_type": "code",
   "execution_count": 27,
   "id": "93c37e3f-2b6c-4624-b4b8-53a295ac44dc",
   "metadata": {},
   "outputs": [
    {
     "data": {
      "text/plain": [
       "(7121, 1)"
      ]
     },
     "execution_count": 27,
     "metadata": {},
     "output_type": "execute_result"
    }
   ],
   "source": [
    "df = np.array(df).reshape(-1, 1)\n",
    "df.shape"
   ]
  },
  {
   "cell_type": "code",
   "execution_count": null,
   "id": "31c5c254-cfd4-4a6a-a6e7-eeae5b1f9aa6",
   "metadata": {},
   "outputs": [],
   "source": []
  },
  {
   "cell_type": "code",
   "execution_count": 28,
   "id": "b395798a-7be3-45d1-8d89-0ba57710b0e1",
   "metadata": {},
   "outputs": [
    {
     "data": {
      "text/plain": [
       "array([[4.95164380e-04],\n",
       "       [3.73970339e-04],\n",
       "       [4.25910689e-04],\n",
       "       ...,\n",
       "       [6.39395683e-01],\n",
       "       [6.36625533e-01],\n",
       "       [6.34409404e-01]])"
      ]
     },
     "execution_count": 28,
     "metadata": {},
     "output_type": "execute_result"
    }
   ],
   "source": [
    "scaler = MinMaxScaler(feature_range=(0,1))\n",
    "scaled_df = scaler.fit_transform(np.array(df).reshape(-1, 1))\n",
    "scaled_df"
   ]
  },
  {
   "cell_type": "code",
   "execution_count": 30,
   "id": "b8b7a9b1-bd70-4aca-8f5b-11120bb8f375",
   "metadata": {},
   "outputs": [
    {
     "data": {
      "text/plain": [
       "5697"
      ]
     },
     "execution_count": 30,
     "metadata": {},
     "output_type": "execute_result"
    }
   ],
   "source": [
    "import math\n",
    "training_data_len = math.ceil(len(scaled_df)*0.8)\n",
    "training_data_len"
   ]
  },
  {
   "cell_type": "code",
   "execution_count": 35,
   "id": "967b6b1c-c012-42ff-bbfc-bd899c405295",
   "metadata": {},
   "outputs": [],
   "source": [
    "train_data = scaled_df[0:training_data_len, :]\n",
    "x_train = []\n",
    "y_train = []\n",
    "for i in range(60, len(train_data)):\n",
    "    x_train.append(train_data[i-60:i, 0])\n",
    "    y_train.append(train_data[i, 0])\n",
    "    "
   ]
  },
  {
   "cell_type": "raw",
   "id": "5dc7cb8c-6528-4380-84b0-d038629a5cbe",
   "metadata": {},
   "source": []
  },
  {
   "cell_type": "code",
   "execution_count": 36,
   "id": "211fda18-e0aa-4e7b-92d3-540a13872757",
   "metadata": {},
   "outputs": [
    {
     "data": {
      "text/plain": [
       "(5697, 1)"
      ]
     },
     "execution_count": 36,
     "metadata": {},
     "output_type": "execute_result"
    }
   ],
   "source": [
    "train_data.shape"
   ]
  },
  {
   "cell_type": "code",
   "execution_count": 38,
   "id": "bf143a99-ab72-4123-add4-c4de54a2dc4b",
   "metadata": {},
   "outputs": [
    {
     "data": {
      "text/plain": [
       "(array([0.00049516, 0.00037397, 0.00042591, 0.00042591, 0.00042591,\n",
       "        0.00042591, 0.0004363 , 0.00042591, 0.00042799, 0.00042591,\n",
       "        0.00042591, 0.00039128, 0.00039128, 0.00039128, 0.00039821,\n",
       "        0.00036376, 0.00041899, 0.00038782, 0.00038955, 0.00039128,\n",
       "        0.00037397, 0.00039128, 0.00037934, 0.00037934, 0.0004086 ,\n",
       "        0.00042591, 0.00039128, 0.00039128, 0.00039128, 0.00039128,\n",
       "        0.00042556, 0.00042556, 0.00042556, 0.00042556, 0.00049516,\n",
       "        0.00049516, 0.00049516, 0.00049516, 0.00049516, 0.00049516,\n",
       "        0.00049516, 0.00046054, 0.00046071, 0.00049516, 0.00049516,\n",
       "        0.00046054, 0.00049516, 0.00049516, 0.00049516, 0.00047785,\n",
       "        0.00048651, 0.00049516, 0.00039146, 0.00039146, 0.00042591,\n",
       "        0.00044322, 0.00049516, 0.00046071, 0.00046071, 0.00046071]),\n",
       " 0.0004607105738143498)"
      ]
     },
     "execution_count": 38,
     "metadata": {},
     "output_type": "execute_result"
    }
   ],
   "source": [
    "x_train[0], y_train[0]"
   ]
  },
  {
   "cell_type": "code",
   "execution_count": 39,
   "id": "65a43033-e05b-4dc6-9595-e4446fe4fde5",
   "metadata": {},
   "outputs": [],
   "source": [
    "x_train, y_train = np.array(x_train), np.array(y_train)"
   ]
  },
  {
   "cell_type": "code",
   "execution_count": 40,
   "id": "bd229d81-97e6-4399-9bcc-48e39f01691f",
   "metadata": {},
   "outputs": [],
   "source": [
    "x_train = x_train.reshape(x_train.shape[0], x_train.shape[1], 1)"
   ]
  },
  {
   "cell_type": "code",
   "execution_count": 41,
   "id": "837eefe3-fca7-4e1a-a9f3-ceb787872e90",
   "metadata": {},
   "outputs": [
    {
     "data": {
      "text/plain": [
       "(5637, 60, 1)"
      ]
     },
     "execution_count": 41,
     "metadata": {},
     "output_type": "execute_result"
    }
   ],
   "source": [
    "x_train.shape"
   ]
  },
  {
   "cell_type": "code",
   "execution_count": 42,
   "id": "5504bcda-33e0-4b85-9b5a-852297ddbc6b",
   "metadata": {},
   "outputs": [],
   "source": [
    "from tensorflow.keras.models import Sequential\n",
    "from tensorflow.keras.layers import MaxPooling2D, LSTM, Dense"
   ]
  },
  {
   "cell_type": "code",
   "execution_count": 44,
   "id": "42e67514-9bfe-4c15-bb76-cdba929af75f",
   "metadata": {},
   "outputs": [],
   "source": [
    "model = Sequential()\n",
    "model.add(LSTM(50, return_sequences=50, input_shape=(x_train.shape[1], 1)))\n",
    "model.add(LSTM(50, return_sequences=False))\n",
    "model.add(Dense(25))\n",
    "model.add(Dense(1))\n",
    "model.compile(optimizer='adam', loss='mean_squared_error')"
   ]
  },
  {
   "cell_type": "code",
   "execution_count": 45,
   "id": "dbfa1793-c82f-4633-bc54-03a4eb1567a8",
   "metadata": {},
   "outputs": [
    {
     "name": "stdout",
     "output_type": "stream",
     "text": [
      "Epoch 1/20\n",
      "\u001b[1m141/141\u001b[0m \u001b[32m━━━━━━━━━━━━━━━━━━━━\u001b[0m\u001b[37m\u001b[0m \u001b[1m20s\u001b[0m 82ms/step - loss: 0.0026\n",
      "Epoch 2/20\n",
      "\u001b[1m141/141\u001b[0m \u001b[32m━━━━━━━━━━━━━━━━━━━━\u001b[0m\u001b[37m\u001b[0m \u001b[1m12s\u001b[0m 85ms/step - loss: 1.1567e-04\n",
      "Epoch 3/20\n",
      "\u001b[1m141/141\u001b[0m \u001b[32m━━━━━━━━━━━━━━━━━━━━\u001b[0m\u001b[37m\u001b[0m \u001b[1m12s\u001b[0m 83ms/step - loss: 1.3329e-04\n",
      "Epoch 4/20\n",
      "\u001b[1m141/141\u001b[0m \u001b[32m━━━━━━━━━━━━━━━━━━━━\u001b[0m\u001b[37m\u001b[0m \u001b[1m12s\u001b[0m 83ms/step - loss: 1.0979e-04\n",
      "Epoch 5/20\n",
      "\u001b[1m141/141\u001b[0m \u001b[32m━━━━━━━━━━━━━━━━━━━━\u001b[0m\u001b[37m\u001b[0m \u001b[1m12s\u001b[0m 83ms/step - loss: 8.6342e-05\n",
      "Epoch 6/20\n",
      "\u001b[1m141/141\u001b[0m \u001b[32m━━━━━━━━━━━━━━━━━━━━\u001b[0m\u001b[37m\u001b[0m \u001b[1m12s\u001b[0m 83ms/step - loss: 9.3235e-05\n",
      "Epoch 7/20\n",
      "\u001b[1m141/141\u001b[0m \u001b[32m━━━━━━━━━━━━━━━━━━━━\u001b[0m\u001b[37m\u001b[0m \u001b[1m12s\u001b[0m 83ms/step - loss: 7.0979e-05\n",
      "Epoch 8/20\n",
      "\u001b[1m141/141\u001b[0m \u001b[32m━━━━━━━━━━━━━━━━━━━━\u001b[0m\u001b[37m\u001b[0m \u001b[1m12s\u001b[0m 82ms/step - loss: 8.1235e-05\n",
      "Epoch 9/20\n",
      "\u001b[1m141/141\u001b[0m \u001b[32m━━━━━━━━━━━━━━━━━━━━\u001b[0m\u001b[37m\u001b[0m \u001b[1m12s\u001b[0m 88ms/step - loss: 6.3211e-05\n",
      "Epoch 10/20\n",
      "\u001b[1m141/141\u001b[0m \u001b[32m━━━━━━━━━━━━━━━━━━━━\u001b[0m\u001b[37m\u001b[0m \u001b[1m12s\u001b[0m 85ms/step - loss: 6.2224e-05\n",
      "Epoch 11/20\n",
      "\u001b[1m141/141\u001b[0m \u001b[32m━━━━━━━━━━━━━━━━━━━━\u001b[0m\u001b[37m\u001b[0m \u001b[1m12s\u001b[0m 85ms/step - loss: 6.5495e-05\n",
      "Epoch 12/20\n",
      "\u001b[1m141/141\u001b[0m \u001b[32m━━━━━━━━━━━━━━━━━━━━\u001b[0m\u001b[37m\u001b[0m \u001b[1m12s\u001b[0m 85ms/step - loss: 6.6244e-05\n",
      "Epoch 13/20\n",
      "\u001b[1m141/141\u001b[0m \u001b[32m━━━━━━━━━━━━━━━━━━━━\u001b[0m\u001b[37m\u001b[0m \u001b[1m12s\u001b[0m 84ms/step - loss: 6.7049e-05\n",
      "Epoch 14/20\n",
      "\u001b[1m141/141\u001b[0m \u001b[32m━━━━━━━━━━━━━━━━━━━━\u001b[0m\u001b[37m\u001b[0m \u001b[1m12s\u001b[0m 85ms/step - loss: 6.0485e-05\n",
      "Epoch 15/20\n",
      "\u001b[1m141/141\u001b[0m \u001b[32m━━━━━━━━━━━━━━━━━━━━\u001b[0m\u001b[37m\u001b[0m \u001b[1m12s\u001b[0m 85ms/step - loss: 5.3564e-05\n",
      "Epoch 16/20\n",
      "\u001b[1m141/141\u001b[0m \u001b[32m━━━━━━━━━━━━━━━━━━━━\u001b[0m\u001b[37m\u001b[0m \u001b[1m12s\u001b[0m 85ms/step - loss: 5.7353e-05\n",
      "Epoch 17/20\n",
      "\u001b[1m141/141\u001b[0m \u001b[32m━━━━━━━━━━━━━━━━━━━━\u001b[0m\u001b[37m\u001b[0m \u001b[1m12s\u001b[0m 87ms/step - loss: 5.6559e-05\n",
      "Epoch 18/20\n",
      "\u001b[1m141/141\u001b[0m \u001b[32m━━━━━━━━━━━━━━━━━━━━\u001b[0m\u001b[37m\u001b[0m \u001b[1m12s\u001b[0m 85ms/step - loss: 4.7655e-05\n",
      "Epoch 19/20\n",
      "\u001b[1m141/141\u001b[0m \u001b[32m━━━━━━━━━━━━━━━━━━━━\u001b[0m\u001b[37m\u001b[0m \u001b[1m12s\u001b[0m 84ms/step - loss: 4.5175e-05\n",
      "Epoch 20/20\n",
      "\u001b[1m141/141\u001b[0m \u001b[32m━━━━━━━━━━━━━━━━━━━━\u001b[0m\u001b[37m\u001b[0m \u001b[1m12s\u001b[0m 86ms/step - loss: 4.6172e-05\n"
     ]
    },
    {
     "data": {
      "text/plain": [
       "<keras.src.callbacks.history.History at 0x1631df99910>"
      ]
     },
     "execution_count": 45,
     "metadata": {},
     "output_type": "execute_result"
    }
   ],
   "source": [
    "model.fit(x_train, y_train, batch_size=40, epochs=20)"
   ]
  },
  {
   "cell_type": "code",
   "execution_count": 46,
   "id": "fba4abb5-7ea4-408c-bdbe-79f8bf13366e",
   "metadata": {},
   "outputs": [],
   "source": [
    "test_data = scaled_df[training_data_len-60:, :]\n",
    "x_test = []\n",
    "y_test = []\n",
    "for i in range(60, len(test_data)):\n",
    "    x_test.append(test_data[i-60:i, 0])"
   ]
  },
  {
   "cell_type": "code",
   "execution_count": 48,
   "id": "07da0afe-50a3-4df2-b350-3a36dca90960",
   "metadata": {},
   "outputs": [
    {
     "data": {
      "text/plain": [
       "array([0.28580339, 0.28876399, 0.28460876, 0.28201175, 0.27941473,\n",
       "       0.28481654, 0.28253115, 0.28034966, 0.28097294, 0.28086906,\n",
       "       0.2823234 , 0.28034966, 0.28460876, 0.28616697, 0.2784798 ,\n",
       "       0.27318189, 0.27479205, 0.27328577, 0.2742207 , 0.27177951,\n",
       "       0.2707407 , 0.27203921, 0.27089653, 0.27209116, 0.27053295,\n",
       "       0.26923444, 0.26606607, 0.267001  , 0.27380517, 0.2737013 ,\n",
       "       0.27603861, 0.27837592, 0.27645414, 0.27811622, 0.27837592,\n",
       "       0.27520758, 0.27037712, 0.27006547, 0.26772816, 0.26684518,\n",
       "       0.26642965, 0.26809174, 0.26528697, 0.26798786, 0.26975384,\n",
       "       0.27053295, 0.27115623, 0.27162368, 0.27214309, 0.27245474,\n",
       "       0.27525951, 0.28247922, 0.28195982, 0.28959504, 0.28902369,\n",
       "       0.29291921, 0.29603563, 0.29603563, 0.29759384, 0.29239981])"
      ]
     },
     "execution_count": 48,
     "metadata": {},
     "output_type": "execute_result"
    }
   ],
   "source": [
    "x_test[0]"
   ]
  },
  {
   "cell_type": "code",
   "execution_count": 49,
   "id": "16254738-e3a2-43d5-9a1c-02f5190a86b9",
   "metadata": {},
   "outputs": [],
   "source": [
    "x_test = np.array(x_test)\n",
    "x_test = np.reshape(x_test, (x_test.shape[0], x_test.shape[1], 1))"
   ]
  },
  {
   "cell_type": "code",
   "execution_count": 50,
   "id": "c11d07f2-60dc-4e97-a680-02180afae3d3",
   "metadata": {},
   "outputs": [
    {
     "name": "stdout",
     "output_type": "stream",
     "text": [
      "\u001b[1m45/45\u001b[0m \u001b[32m━━━━━━━━━━━━━━━━━━━━\u001b[0m\u001b[37m\u001b[0m \u001b[1m3s\u001b[0m 43ms/step\n"
     ]
    },
    {
     "data": {
      "text/plain": [
       "array([[0.29120302],\n",
       "       [0.2876806 ],\n",
       "       [0.2835973 ],\n",
       "       [0.28023544],\n",
       "       [0.27779207]], dtype=float32)"
      ]
     },
     "execution_count": 50,
     "metadata": {},
     "output_type": "execute_result"
    }
   ],
   "source": [
    "predictions = model.predict(x_test)\n",
    "predictions[:5]"
   ]
  },
  {
   "cell_type": "code",
   "execution_count": 52,
   "id": "e9c7034a-1728-48b2-8b29-f6e49b340103",
   "metadata": {},
   "outputs": [
    {
     "data": {
      "text/plain": [
       "(1424, 1)"
      ]
     },
     "execution_count": 52,
     "metadata": {},
     "output_type": "execute_result"
    }
   ],
   "source": [
    "predictions.shape"
   ]
  },
  {
   "cell_type": "code",
   "execution_count": 54,
   "id": "4a2a66d7-6418-46ca-82ee-496cbf6e7488",
   "metadata": {},
   "outputs": [],
   "source": [
    "y_test = df[training_data_len:, :]"
   ]
  },
  {
   "cell_type": "code",
   "execution_count": 56,
   "id": "35d82c1f-e245-46a1-84fd-3e98e5265509",
   "metadata": {},
   "outputs": [
    {
     "data": {
      "text/plain": [
       "(array([[208.65005493],\n",
       "        [206.25004578],\n",
       "        [205.05004883],\n",
       "        ...,\n",
       "        [462.3999939 ],\n",
       "        [460.3999939 ],\n",
       "        [458.79998779]]),\n",
       " (1424, 1))"
      ]
     },
     "execution_count": 56,
     "metadata": {},
     "output_type": "execute_result"
    }
   ],
   "source": [
    "y_test, y_test.shape"
   ]
  },
  {
   "cell_type": "code",
   "execution_count": 57,
   "id": "a0d7044f-b3e6-40ce-b868-27d9b5b63129",
   "metadata": {},
   "outputs": [
    {
     "data": {
      "text/plain": [
       "385.11628402201353"
      ]
     },
     "execution_count": 57,
     "metadata": {},
     "output_type": "execute_result"
    }
   ],
   "source": [
    "pred = scaler.inverse_transform(predictions)\n",
    "rsme = np.sqrt(np.mean(predictions-y_test)**2)\n",
    "rsme"
   ]
  },
  {
   "cell_type": "code",
   "execution_count": 68,
   "id": "da1e5276-c224-488c-a44d-949143bbc326",
   "metadata": {},
   "outputs": [
    {
     "data": {
      "image/png": "[encoded data removed]",
      "text/plain": [
       "<Figure size 1600x800 with 1 Axes>"
      ]
     },
     "metadata": {},
     "output_type": "display_data"
    }
   ],
   "source": [
    "new_df = data.filter(['Open'])\n",
    "train = new_df[:training_data_len]\n",
    "val = new_df[training_data_len:]\n",
    "val['predictions'] = pred\n",
    "plt.figure(figsize=(16, 8))\n",
    "plt.title('model')\n",
    "plt.xlabel('Date', fontsize=18)\n",
    "plt.ylabel('Open_price', fontsize=18)\n",
    "plt.plot(train['Open'])\n",
    "plt.plot(val[['Open','predictions']],)\n",
    "plt.legend(['train', 'val', 'predictions'], loc = 'lower right')\n",
    "plt.show()"
   ]
  },
  {
   "cell_type": "code",
   "execution_count": 63,
   "id": "186ca0f2-f147-482f-aafa-9fbc0ee74514",
   "metadata": {},
   "outputs": [
    {
     "data": {
      "text/plain": [
       "array([[208.65005493],\n",
       "       [206.25004578],\n",
       "       [205.05004883],\n",
       "       ...,\n",
       "       [462.3999939 ],\n",
       "       [460.3999939 ],\n",
       "       [458.79998779]])"
      ]
     },
     "execution_count": 63,
     "metadata": {},
     "output_type": "execute_result"
    }
   ],
   "source": []
  },
  {
   "cell_type": "code",
   "execution_count": null,
   "id": "9a4a72a0-64dd-466e-a4e2-b53ed093b644",
   "metadata": {},
   "outputs": [],
   "source": []
  }
 ],
 "metadata": {
  "kernelspec": {
   "display_name": "Python 3 (ipykernel)",
   "language": "python",
   "name": "python3"
  },
  "language_info": {
   "codemirror_mode": {
    "name": "ipython",
    "version": 3
   },
   "file_extension": ".py",
   "mimetype": "text/x-python",
   "name": "python",
   "nbconvert_exporter": "python",
   "pygments_lexer": "ipython3",
   "version": "3.11.9"
  }
 },
 "nbformat": 4,
 "nbformat_minor": 5
}
